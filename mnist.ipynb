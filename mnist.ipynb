{
 "cells": [
  {
   "cell_type": "markdown",
   "metadata": {},
   "source": [
    "## MNIST Digit Recognition\n",
    "\n",
    "### Using lasagne NeuralNet"
   ]
  },
  {
   "cell_type": "code",
   "execution_count": 1,
   "metadata": {
    "collapsed": false
   },
   "outputs": [],
   "source": [
    "import sys\n",
    "import os\n",
    "import time\n",
    "import numpy as np\n",
    "\n",
    "#import theano\n",
    "#import theano.tensor as T\n",
    "#import lasagne"
   ]
  },
  {
   "cell_type": "code",
   "execution_count": 2,
   "metadata": {
    "collapsed": false,
    "scrolled": true
   },
   "outputs": [
    {
     "name": "stderr",
     "output_type": "stream",
     "text": [
      "C:\\Users\\babsab\\Anaconda2\\lib\\site-packages\\sklearn\\cross_validation.py:44: DeprecationWarning: This module was deprecated in version 0.18 in favor of the model_selection module into which all the refactored classes and functions are moved. Also note that the interface of the new CV iterators are different from that of this module. This module will be removed in 0.20.\n",
      "  \"This module will be removed in 0.20.\", DeprecationWarning)\n"
     ]
    }
   ],
   "source": [
    "from lasagne import layers\n",
    "from lasagne.updates import nesterov_momentum\n",
    "from nolearn.lasagne import NeuralNet\n",
    "from lasagne.nonlinearities import softmax"
   ]
  },
  {
   "cell_type": "markdown",
   "metadata": {},
   "source": [
    "## Load Data"
   ]
  },
  {
   "cell_type": "code",
   "execution_count": 3,
   "metadata": {
    "collapsed": true
   },
   "outputs": [],
   "source": [
    "def load_dataset():\n",
    "    # We first define a download function, supporting both Python 2 and 3.\n",
    "    if sys.version_info[0] == 2:\n",
    "        from urllib import urlretrieve\n",
    "    else:\n",
    "        from urllib.request import urlretrieve\n",
    "    \n",
    "    def download(filename, source='http://yann.lecun.com/exdb/mnist/'):\n",
    "        print(\"Downloading %s\" % filename)\n",
    "        urlretrieve(source + filename, filename)\n",
    "    # We then define functions for loading MNIST images and labels.\n",
    "    # For convenience, they also download the requested files if needed.\n",
    "    import gzip\n",
    "    \n",
    "    def load_mnist_images(filename):\n",
    "        if not os.path.exists(filename):\n",
    "            download(filename)\n",
    "        # Read the inputs in Yann LeCun's binary format.\n",
    "        with gzip.open(filename, 'rb') as f:\n",
    "            data = np.frombuffer(f.read(), np.uint8, offset=16)\n",
    "        # The inputs are vectors now, we reshape them to monochrome 2D images,\n",
    "        # following the shape convention: (examples, channels, rows, columns)\n",
    "        data = data.reshape(-1, 1, 28, 28)\n",
    "        # The inputs come as bytes, we convert them to float32 in range [0,1].\n",
    "        # (Actually to range [0, 255/256], for compatibility to the version\n",
    "        # provided at http://deeplearning.net/data/mnist/mnist.pkl.gz.)\n",
    "        return data / np.float32(256)\n",
    "    \n",
    "    def load_mnist_labels(filename):\n",
    "        if not os.path.exists(filename):\n",
    "            download(filename)\n",
    "        # Read the labels in Yann LeCun's binary format.\n",
    "        with gzip.open(filename, 'rb') as f:\n",
    "            data = np.frombuffer(f.read(), np.uint8, offset=8)\n",
    "        # The labels are vectors of integers now, that's exactly what we want.\n",
    "        return data\n",
    "    \n",
    "    # We can now download and read the training and test set images and labels.\n",
    "    X_train = load_mnist_images('train-images-idx3-ubyte.gz')\n",
    "    y_train = load_mnist_labels('train-labels-idx1-ubyte.gz')\n",
    "    X_test = load_mnist_images('t10k-images-idx3-ubyte.gz')\n",
    "    y_test = load_mnist_labels('t10k-labels-idx1-ubyte.gz')\n",
    "\n",
    "    # We reserve the last 10000 training examples for validation.\n",
    "    #X_train, X_val = X_train[:-10000], X_train[-10000:]\n",
    "    #y_train, y_val = y_train[:-10000], y_train[-10000:]\n",
    "    \n",
    "    # We just return all the arrays in order, as expected in main().\n",
    "    # (It doesn't matter how we do this as long as we can read them again.)\n",
    "    return X_train, y_train, X_test, y_test"
   ]
  },
  {
   "cell_type": "code",
   "execution_count": 4,
   "metadata": {
    "collapsed": false
   },
   "outputs": [
    {
     "name": "stdout",
     "output_type": "stream",
     "text": [
      "Downloading train-images-idx3-ubyte.gz\n",
      "Downloading train-labels-idx1-ubyte.gz\n",
      "Downloading t10k-images-idx3-ubyte.gz\n",
      "Downloading t10k-labels-idx1-ubyte.gz\n"
     ]
    }
   ],
   "source": [
    "X_train, y_train, X_test, y_test = load_dataset()"
   ]
  },
  {
   "cell_type": "code",
   "execution_count": 5,
   "metadata": {
    "collapsed": false
   },
   "outputs": [
    {
     "data": {
      "text/plain": [
       "array([5, 0, 4, ..., 5, 6, 8], dtype=uint8)"
      ]
     },
     "execution_count": 5,
     "metadata": {},
     "output_type": "execute_result"
    }
   ],
   "source": [
    "y_train\n"
   ]
  },
  {
   "cell_type": "code",
   "execution_count": 9,
   "metadata": {
    "collapsed": false
   },
   "outputs": [
    {
     "data": {
      "text/plain": [
       "(60000L, 1L, 28L, 28L)"
      ]
     },
     "execution_count": 9,
     "metadata": {},
     "output_type": "execute_result"
    }
   ],
   "source": [
    "X_train.shape"
   ]
  },
  {
   "cell_type": "markdown",
   "metadata": {
    "collapsed": true
   },
   "source": [
    "## Setup Neural Network"
   ]
  },
  {
   "cell_type": "code",
   "execution_count": 16,
   "metadata": {
    "collapsed": false
   },
   "outputs": [],
   "source": [
    "nnet = NeuralNet(\n",
    "    layers=[  # three layers: one hidden layer\n",
    "        ('input', layers.InputLayer),\n",
    "        ('hidden1', layers.DenseLayer),\n",
    "        ('hidden2', layers.DenseLayer),\n",
    "        ('hidden3', layers.DenseLayer),\n",
    "        ('output', layers.DenseLayer),\n",
    "        ],\n",
    "    # layer parameters:\n",
    "    input_shape=( None, 1, 28, 28),  #96x96 input pixels per batch\n",
    "    hidden1_num_units=500,  # number of units in hidden layer\n",
    "    hidden2_num_units=500,  # number of units in hidden layer\n",
    "    hidden3_num_units=500,  # number of units in hidden layer\n",
    "    output_nonlinearity= softmax,  # output layer uses identity function\n",
    "    output_num_units=10,  # 30 target values\n",
    "\n",
    "    # optimization method:\n",
    "    update=nesterov_momentum,\n",
    "    update_learning_rate=0.01,\n",
    "    update_momentum=0.9,\n",
    "\n",
    "    regression=False,  # flag to indicate we're dealing with regression problem\n",
    "    max_epochs=15,  # we want to train this many epochs\n",
    "    verbose=1,\n",
    "    )"
   ]
  },
  {
   "cell_type": "markdown",
   "metadata": {},
   "source": [
    "## Fit Model"
   ]
  },
  {
   "cell_type": "code",
   "execution_count": 17,
   "metadata": {
    "collapsed": false,
    "scrolled": true
   },
   "outputs": [
    {
     "name": "stdout",
     "output_type": "stream",
     "text": [
      "# Neural Network with 898510 learnable parameters\n",
      "\n",
      "## Layer information\n",
      "\n",
      "  #  name     size\n",
      "---  -------  -------\n",
      "  0  input    1x28x28\n",
      "  1  hidden1  500\n",
      "  2  hidden2  500\n",
      "  3  hidden3  500\n",
      "  4  output   10\n",
      "\n",
      "  epoch    trn loss    val loss    trn/val    valid acc  dur\n",
      "-------  ----------  ----------  ---------  -----------  ------\n",
      "      1     \u001b[36m0.48612\u001b[0m     \u001b[32m0.24273\u001b[0m    2.00270      0.92736  29.35s\n",
      "      2     \u001b[36m0.19434\u001b[0m     \u001b[32m0.16889\u001b[0m    1.15073      0.94902  29.93s\n",
      "      3     \u001b[36m0.13634\u001b[0m     \u001b[32m0.14031\u001b[0m    0.97168      0.95918  29.90s\n",
      "      4     \u001b[36m0.10304\u001b[0m     \u001b[32m0.12255\u001b[0m    0.84082      0.96318  29.30s\n",
      "      5     \u001b[36m0.08023\u001b[0m     \u001b[32m0.11040\u001b[0m    0.72676      0.96610  30.75s\n",
      "      6     \u001b[36m0.06319\u001b[0m     \u001b[32m0.10234\u001b[0m    0.61740      0.96826  30.85s\n",
      "      7     \u001b[36m0.04995\u001b[0m     \u001b[32m0.09663\u001b[0m    0.51692      0.97035  29.03s\n",
      "      8     \u001b[36m0.03955\u001b[0m     \u001b[32m0.09340\u001b[0m    0.42342      0.97176  28.68s\n",
      "      9     \u001b[36m0.03137\u001b[0m     \u001b[32m0.09049\u001b[0m    0.34670      0.97301  28.91s\n",
      "     10     \u001b[36m0.02482\u001b[0m     \u001b[32m0.08397\u001b[0m    0.29563      0.97626  28.57s\n",
      "     11     \u001b[36m0.01952\u001b[0m     0.08410    0.23204      0.97643  28.69s\n",
      "     12     \u001b[36m0.01528\u001b[0m     0.08443    0.18097      0.97676  29.80s\n",
      "     13     \u001b[36m0.01212\u001b[0m     0.08508    0.14247      0.97684  31.70s\n",
      "     14     \u001b[36m0.00979\u001b[0m     0.08500    0.11516      0.97768  30.79s\n",
      "     15     \u001b[36m0.00808\u001b[0m     0.08503    0.09497      0.97843  29.24s\n"
     ]
    },
    {
     "data": {
      "text/plain": [
       "NeuralNet(X_tensor_type=None,\n",
       "     batch_iterator_test=<nolearn.lasagne.base.BatchIterator object at 0x0000000009BE5400>,\n",
       "     batch_iterator_train=<nolearn.lasagne.base.BatchIterator object at 0x0000000009A58588>,\n",
       "     check_input=True, custom_scores=None, hidden1_num_units=500,\n",
       "     hidden2_num_units=500, hidden3_num_units=500,\n",
       "     input_shape=(None, 1, 28, 28),\n",
       "     layers=[('input', <class 'lasagne.layers.input.InputLayer'>), ('hidden1', <class 'lasagne.layers.dense.DenseLayer'>), ('hidden2', <class 'lasagne.layers.dense.DenseLayer'>), ('hidden3', <class 'lasagne.layers.dense.DenseLayer'>), ('output', <class 'lasagne.layers.dense.DenseLayer'>)],\n",
       "     loss=None, max_epochs=15, more_params={},\n",
       "     objective=<function objective at 0x0000000009BDD518>,\n",
       "     objective_loss_function=<function categorical_crossentropy at 0x0000000009734978>,\n",
       "     on_batch_finished=[],\n",
       "     on_epoch_finished=[<nolearn.lasagne.handlers.PrintLog instance at 0x000000000E632048>],\n",
       "     on_training_finished=[],\n",
       "     on_training_started=[<nolearn.lasagne.handlers.PrintLayerInfo instance at 0x000000000E632588>],\n",
       "     output_nonlinearity=<function softmax at 0x0000000008CF62E8>,\n",
       "     output_num_units=10, regression=False, scores_train=[],\n",
       "     scores_valid=[],\n",
       "     train_split=<nolearn.lasagne.base.TrainSplit object at 0x0000000009BE5438>,\n",
       "     update=<function nesterov_momentum at 0x000000000973C278>,\n",
       "     update_learning_rate=0.01, update_momentum=0.9,\n",
       "     use_label_encoder=False, verbose=1,\n",
       "     y_tensor_type=TensorType(int32, vector))"
      ]
     },
     "execution_count": 17,
     "metadata": {},
     "output_type": "execute_result"
    }
   ],
   "source": [
    "nnet.fit(X_train, y_train)"
   ]
  },
  {
   "cell_type": "markdown",
   "metadata": {},
   "source": [
    "## Predict digits for Test Data"
   ]
  },
  {
   "cell_type": "code",
   "execution_count": 19,
   "metadata": {
    "collapsed": false
   },
   "outputs": [],
   "source": [
    "y_pred = nnet.predict(X_test)"
   ]
  },
  {
   "cell_type": "markdown",
   "metadata": {},
   "source": [
    "## Calculate Test Accuracy"
   ]
  },
  {
   "cell_type": "code",
   "execution_count": 20,
   "metadata": {
    "collapsed": false
   },
   "outputs": [
    {
     "name": "stdout",
     "output_type": "stream",
     "text": [
      "('Accuracy: %f', 97.64)\n"
     ]
    }
   ],
   "source": [
    "s=0\n",
    "for i in range(len(y_pred)):\n",
    "    if y_pred[i] == y_test[i]:\n",
    "        s += 1\n",
    "\n",
    "print (\"Accuracy: %f\", s*100.0/len(y_pred))"
   ]
  },
  {
   "cell_type": "markdown",
   "metadata": {},
   "source": [
    "## Display Confusion Matrix"
   ]
  },
  {
   "cell_type": "code",
   "execution_count": 21,
   "metadata": {
    "collapsed": true
   },
   "outputs": [],
   "source": [
    "from sklearn.metrics import confusion_matrix"
   ]
  },
  {
   "cell_type": "code",
   "execution_count": 22,
   "metadata": {
    "collapsed": false
   },
   "outputs": [],
   "source": [
    "tbl = confusion_matrix(y_test, y_pred, labels=[0,1,2,3,4,5,6,7,8,9])"
   ]
  },
  {
   "cell_type": "code",
   "execution_count": 23,
   "metadata": {
    "collapsed": false
   },
   "outputs": [
    {
     "name": "stdout",
     "output_type": "stream",
     "text": [
      "[[ 974    0    1    0    0    1    1    1    2    0]\n",
      " [   0 1127    3    1    0    1    2    0    1    0]\n",
      " [   5    1 1015    2    2    0    3    3    1    0]\n",
      " [   0    0    8  987    0    4    0    2    1    8]\n",
      " [   1    0    8    0  952    1    1    0    0   19]\n",
      " [   3    0    0    9    1  876    2    0    1    0]\n",
      " [   5    3    0    0    6   11  932    0    1    0]\n",
      " [   1    8   15    3    1    0    1  982    4   13]\n",
      " [   4    0    6   14    1    5    3    3  935    3]\n",
      " [   2    2    0    7    6    2    2    3    1  984]]\n"
     ]
    }
   ],
   "source": [
    "print tbl"
   ]
  },
  {
   "cell_type": "markdown",
   "metadata": {
    "collapsed": true
   },
   "source": [
    "## Setup Neural Network with Regularization"
   ]
  },
  {
   "cell_type": "code",
   "execution_count": 25,
   "metadata": {
    "collapsed": false
   },
   "outputs": [],
   "source": [
    "nnet = NeuralNet(\n",
    "    layers=[  # three layers: one hidden layer\n",
    "        ('input', layers.InputLayer),\n",
    "        ('hidden1', layers.DenseLayer),\n",
    "        ('dropout1', layers.DropoutLayer),\n",
    "        ('hidden2', layers.DenseLayer),\n",
    "        ('dropout2', layers.DropoutLayer),\n",
    "        ('hidden3', layers.DenseLayer),\n",
    "        ('output', layers.DenseLayer),\n",
    "        ],\n",
    "    # layer parameters:\n",
    "    input_shape=( None, 1, 28, 28),  # input shape\n",
    "    hidden1_num_units=500,  # number of units in hidden layer\n",
    "    hidden2_num_units=500,  # number of units in hidden layer\n",
    "    hidden3_num_units=500,  # number of units in hidden layer\n",
    "    dropout1_p = 0.2,\n",
    "    dropout2_p = 0.1,\n",
    "    output_nonlinearity= softmax,  # output layer uses identity function\n",
    "    output_num_units=10,  # 10 target values\n",
    "\n",
    "    # optimization method:\n",
    "    update=nesterov_momentum,\n",
    "    update_learning_rate=0.01,\n",
    "    update_momentum=0.9,\n",
    "\n",
    "    regression=False,  # flag to indicate we're dealing with regression problem\n",
    "    max_epochs=15,  # we want to train this many epochs\n",
    "    verbose=1,\n",
    "    )"
   ]
  },
  {
   "cell_type": "code",
   "execution_count": 26,
   "metadata": {
    "collapsed": false
   },
   "outputs": [
    {
     "name": "stdout",
     "output_type": "stream",
     "text": [
      "# Neural Network with 898510 learnable parameters\n",
      "\n",
      "## Layer information\n",
      "\n",
      "  #  name      size\n",
      "---  --------  -------\n",
      "  0  input     1x28x28\n",
      "  1  hidden1   500\n",
      "  2  dropout1  500\n",
      "  3  hidden2   500\n",
      "  4  dropout2  500\n",
      "  5  hidden3   500\n",
      "  6  output    10\n",
      "\n",
      "  epoch    trn loss    val loss    trn/val    valid acc  dur\n",
      "-------  ----------  ----------  ---------  -----------  ------\n",
      "      1     \u001b[36m0.53153\u001b[0m     \u001b[32m0.23203\u001b[0m    2.29076      0.93086  33.37s\n",
      "      2     \u001b[36m0.21592\u001b[0m     \u001b[32m0.16158\u001b[0m    1.33633      0.95019  32.22s\n",
      "      3     \u001b[36m0.15651\u001b[0m     \u001b[32m0.12677\u001b[0m    1.23459      0.96235  34.07s\n",
      "      4     \u001b[36m0.12442\u001b[0m     \u001b[32m0.10812\u001b[0m    1.15075      0.96735  31.85s\n",
      "      5     \u001b[36m0.10266\u001b[0m     \u001b[32m0.09806\u001b[0m    1.04690      0.97018  32.54s\n",
      "      6     \u001b[36m0.08510\u001b[0m     \u001b[32m0.08618\u001b[0m    0.98746      0.97343  32.80s\n",
      "      7     \u001b[36m0.07189\u001b[0m     \u001b[32m0.08144\u001b[0m    0.88271      0.97509  34.00s\n",
      "      8     \u001b[36m0.06303\u001b[0m     \u001b[32m0.07856\u001b[0m    0.80232      0.97709  34.49s\n",
      "      9     \u001b[36m0.05417\u001b[0m     0.07940    0.68232      0.97584  36.52s\n",
      "     10     \u001b[36m0.04713\u001b[0m     \u001b[32m0.07755\u001b[0m    0.60768      0.97818  32.28s\n",
      "     11     \u001b[36m0.04200\u001b[0m     \u001b[32m0.07641\u001b[0m    0.54965      0.97834  34.18s\n",
      "     12     \u001b[36m0.03849\u001b[0m     \u001b[32m0.07546\u001b[0m    0.51013      0.97951  36.18s\n",
      "     13     \u001b[36m0.03245\u001b[0m     \u001b[32m0.07093\u001b[0m    0.45753      0.98001  33.81s\n",
      "     14     \u001b[36m0.03028\u001b[0m     0.07640    0.39632      0.97901  31.63s\n",
      "     15     \u001b[36m0.02591\u001b[0m     0.07105    0.36470      0.98034  33.79s\n"
     ]
    },
    {
     "data": {
      "text/plain": [
       "NeuralNet(X_tensor_type=None,\n",
       "     batch_iterator_test=<nolearn.lasagne.base.BatchIterator object at 0x0000000009BE5400>,\n",
       "     batch_iterator_train=<nolearn.lasagne.base.BatchIterator object at 0x0000000009A58588>,\n",
       "     check_input=True, custom_scores=None, dropout1_p=0.2, dropout2_p=0.1,\n",
       "     hidden1_num_units=500, hidden2_num_units=500, hidden3_num_units=500,\n",
       "     input_shape=(None, 1, 28, 28),\n",
       "     layers=[('input', <class 'lasagne.layers.input.InputLayer'>), ('hidden1', <class 'lasagne.layers.dense.DenseLayer'>), ('dropout1', <class 'lasagne.layers.noise.DropoutLayer'>), ('hidden2', <class 'lasagne.layers.dense.DenseLayer'>), ('dropout2', <class 'lasagne.layers.noise.DropoutLayer'>), ('hidden3', <class 'lasagne.layers.dense.DenseLayer'>), ('output', <class 'lasagne.layers.dense.DenseLayer'>)],\n",
       "     loss=None, max_epochs=15, more_params={},\n",
       "     objective=<function objective at 0x0000000009BDD518>,\n",
       "     objective_loss_function=<function categorical_crossentropy at 0x0000000009734978>,\n",
       "     on_batch_finished=[],\n",
       "     on_epoch_finished=[<nolearn.lasagne.handlers.PrintLog instance at 0x000000000E3F6EC8>],\n",
       "     on_training_finished=[],\n",
       "     on_training_started=[<nolearn.lasagne.handlers.PrintLayerInfo instance at 0x000000000E3F6AC8>],\n",
       "     output_nonlinearity=<function softmax at 0x0000000008CF62E8>,\n",
       "     output_num_units=10, regression=False, scores_train=[],\n",
       "     scores_valid=[],\n",
       "     train_split=<nolearn.lasagne.base.TrainSplit object at 0x0000000009BE5438>,\n",
       "     update=<function nesterov_momentum at 0x000000000973C278>,\n",
       "     update_learning_rate=0.01, update_momentum=0.9,\n",
       "     use_label_encoder=False, verbose=1,\n",
       "     y_tensor_type=TensorType(int32, vector))"
      ]
     },
     "execution_count": 26,
     "metadata": {},
     "output_type": "execute_result"
    }
   ],
   "source": [
    "nnet.fit(X_train, y_train)"
   ]
  },
  {
   "cell_type": "code",
   "execution_count": null,
   "metadata": {
    "collapsed": true
   },
   "outputs": [],
   "source": []
  }
 ],
 "metadata": {
  "anaconda-cloud": {},
  "kernelspec": {
   "display_name": "Python [default]",
   "language": "python",
   "name": "python2"
  },
  "language_info": {
   "codemirror_mode": {
    "name": "ipython",
    "version": 2
   },
   "file_extension": ".py",
   "mimetype": "text/x-python",
   "name": "python",
   "nbconvert_exporter": "python",
   "pygments_lexer": "ipython2",
   "version": "2.7.12"
  }
 },
 "nbformat": 4,
 "nbformat_minor": 0
}
